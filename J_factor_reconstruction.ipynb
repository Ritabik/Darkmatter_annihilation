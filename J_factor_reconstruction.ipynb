{
 "cells": [
  {
   "cell_type": "code",
   "execution_count": 1,
   "metadata": {},
   "outputs": [
    {
     "name": "stderr",
     "output_type": "stream",
     "text": [
      "c:\\python39\\lib\\site-packages\\numpy\\_distributor_init.py:30: UserWarning: loaded more than 1 DLL from .libs:\n",
      "c:\\python39\\lib\\site-packages\\numpy\\.libs\\libopenblas.EL2C6PLE4ZYW3ECEVIV3OXXGRN2NRFM2.gfortran-win_amd64.dll\n",
      "c:\\python39\\lib\\site-packages\\numpy\\.libs\\libopenblas64__v0.3.23-gcc_10_3_0.dll\n",
      "  warnings.warn(\"loaded more than 1 DLL from .libs:\"\n"
     ]
    }
   ],
   "source": [
    "import numpy as np\n",
    "import matplotlib.pyplot as plt\n",
    "from scipy.integrate import dblquad\n",
    "from scipy.integrate import quad\n"
   ]
  },
  {
   "cell_type": "markdown",
   "metadata": {},
   "source": [
    "# Using the Profile Library"
   ]
  },
  {
   "cell_type": "code",
   "execution_count": 5,
   "metadata": {},
   "outputs": [],
   "source": [
    "from profiles import MWDensity as pm"
   ]
  },
  {
   "cell_type": "code",
   "execution_count": 6,
   "metadata": {},
   "outputs": [],
   "source": [
    "x = pm()"
   ]
  },
  {
   "cell_type": "code",
   "execution_count": 7,
   "metadata": {},
   "outputs": [],
   "source": [
    "m_chi = 1e3\n",
    "sigma_v =  np.logspace(-33,-19, 200)"
   ]
  },
  {
   "cell_type": "code",
   "execution_count": 17,
   "metadata": {},
   "outputs": [],
   "source": [
    "r= lambda l,theta:np.sqrt(x.R_sun**2-2*x.R_sun*l*np.cos(theta)+l**2)"
   ]
  },
  {
   "cell_type": "code",
   "execution_count": 18,
   "metadata": {},
   "outputs": [
    {
     "ename": "TypeError",
     "evalue": "'>=' not supported between instances of 'function' and 'float'",
     "output_type": "error",
     "traceback": [
      "\u001b[1;31m---------------------------------------------------------------------------\u001b[0m",
      "\u001b[1;31mTypeError\u001b[0m                                 Traceback (most recent call last)",
      "Input \u001b[1;32mIn [18]\u001b[0m, in \u001b[0;36m<cell line: 5>\u001b[1;34m()\u001b[0m\n\u001b[0;32m      6\u001b[0m rh \u001b[38;5;241m=\u001b[39m m_chi \u001b[38;5;241m/\u001b[39m (sigma_v[i] \u001b[38;5;241m*\u001b[39m t)\n\u001b[0;32m      7\u001b[0m rho_sat\u001b[38;5;241m.\u001b[39mappend(rh)\n\u001b[1;32m----> 8\u001b[0m a \u001b[38;5;241m=\u001b[39m \u001b[43mpm\u001b[49m\u001b[43m(\u001b[49m\u001b[43mhalo_types\u001b[49m\u001b[38;5;241;43m=\u001b[39;49m\u001b[43m[\u001b[49m\u001b[38;5;124;43m'\u001b[39;49m\u001b[38;5;124;43mNFW\u001b[39;49m\u001b[38;5;124;43m'\u001b[39;49m\u001b[43m]\u001b[49m\u001b[43m,\u001b[49m\u001b[43m \u001b[49m\u001b[43mspike_types\u001b[49m\u001b[38;5;241;43m=\u001b[39;49m\u001b[43m[\u001b[49m\u001b[38;5;124;43m'\u001b[39;49m\u001b[38;5;124;43mGS\u001b[39;49m\u001b[38;5;124;43m'\u001b[39;49m\u001b[43m]\u001b[49m\u001b[43m,\u001b[49m\u001b[43mr\u001b[49m\u001b[38;5;241;43m=\u001b[39;49m\u001b[43mr\u001b[49m\u001b[43m,\u001b[49m\u001b[43mrho_sat\u001b[49m\u001b[38;5;241;43m=\u001b[39;49m\u001b[43mrh\u001b[49m\u001b[43m)\u001b[49m\n\u001b[0;32m      9\u001b[0m d \u001b[38;5;241m=\u001b[39m a\u001b[38;5;241m.\u001b[39mdensity[\u001b[38;5;124m'\u001b[39m\u001b[38;5;124mNFW\u001b[39m\u001b[38;5;124m'\u001b[39m][\u001b[38;5;124m'\u001b[39m\u001b[38;5;124mGS\u001b[39m\u001b[38;5;124m'\u001b[39m]\u001b[38;5;241m*\u001b[39m\u001b[38;5;241m*\u001b[39m\u001b[38;5;241m2\u001b[39m \u001b[38;5;241m*\u001b[39m \u001b[38;5;241m2\u001b[39m \u001b[38;5;241m*\u001b[39mnp\u001b[38;5;241m.\u001b[39mpi\n\u001b[0;32m     10\u001b[0m density\u001b[38;5;241m.\u001b[39mappend(d)\n",
      "File \u001b[1;32mc:\\Users\\RITABIK BANERJEE\\Desktop\\python\\Subhabrata Project\\Darkmatter_annihilation\\profiles.py:77\u001b[0m, in \u001b[0;36mMWDensity.__init__\u001b[1;34m(self, halo_types, spike_types, rho_sat, **kwargs)\u001b[0m\n\u001b[0;32m     75\u001b[0m \u001b[38;5;28mself\u001b[39m\u001b[38;5;241m.\u001b[39mspike_type \u001b[38;5;241m=\u001b[39m spike_type\n\u001b[0;32m     76\u001b[0m \u001b[38;5;28mself\u001b[39m\u001b[38;5;241m.\u001b[39mspike_params()\n\u001b[1;32m---> 77\u001b[0m \u001b[38;5;28mself\u001b[39m\u001b[38;5;241m.\u001b[39mdensity[halo_type][spike_type] \u001b[38;5;241m=\u001b[39m \u001b[38;5;28;43mself\u001b[39;49m\u001b[38;5;241;43m.\u001b[39;49m\u001b[43mmass_density\u001b[49m\u001b[43m(\u001b[49m\u001b[43m)\u001b[49m\u001b[38;5;241m/\u001b[39mUnitConversion\u001b[38;5;241m.\u001b[39mGeVbycc_to_Msunbykpc3\n",
      "File \u001b[1;32mc:\\Users\\RITABIK BANERJEE\\Desktop\\python\\Subhabrata Project\\Darkmatter_annihilation\\profiles.py:88\u001b[0m, in \u001b[0;36mMWDensity.mass_density\u001b[1;34m(self)\u001b[0m\n\u001b[0;32m     82\u001b[0m \u001b[38;5;250m\u001b[39m\u001b[38;5;124;03m\"\"\"s\u001b[39;00m\n\u001b[0;32m     83\u001b[0m \u001b[38;5;124;03mDM mass density of MW: 0 for r < 2R_S; sat for 2R_S <= r \u001b[39;00m\n\u001b[0;32m     84\u001b[0m \u001b[38;5;124;03m< R_sat; spike for R_sat <= r < R_sp; halo for r >= R_sp\u001b[39;00m\n\u001b[0;32m     85\u001b[0m \u001b[38;5;124;03m\"\"\"\u001b[39;00m\n\u001b[0;32m     86\u001b[0m density \u001b[38;5;241m=\u001b[39m np\u001b[38;5;241m.\u001b[39mzeros_like(\u001b[38;5;28mself\u001b[39m\u001b[38;5;241m.\u001b[39mr)\n\u001b[1;32m---> 88\u001b[0m indx1 \u001b[38;5;241m=\u001b[39m np\u001b[38;5;241m.\u001b[39mwhere(\u001b[38;5;28;43mself\u001b[39;49m\u001b[38;5;241;43m.\u001b[39;49m\u001b[43mr\u001b[49m\u001b[43m \u001b[49m\u001b[38;5;241;43m>\u001b[39;49m\u001b[38;5;241;43m=\u001b[39;49m\u001b[43m \u001b[49m\u001b[38;5;28;43mself\u001b[39;49m\u001b[38;5;241;43m.\u001b[39;49m\u001b[43mR_sp\u001b[49m)[\u001b[38;5;241m0\u001b[39m]\n\u001b[0;32m     89\u001b[0m density[indx1] \u001b[38;5;241m=\u001b[39m \u001b[38;5;28mself\u001b[39m\u001b[38;5;241m.\u001b[39mhalo(\u001b[38;5;28mself\u001b[39m\u001b[38;5;241m.\u001b[39mr[indx1])\n\u001b[0;32m     91\u001b[0m indx2 \u001b[38;5;241m=\u001b[39m np\u001b[38;5;241m.\u001b[39mwhere(\u001b[38;5;28mself\u001b[39m\u001b[38;5;241m.\u001b[39mr \u001b[38;5;241m<\u001b[39m \u001b[38;5;28mself\u001b[39m\u001b[38;5;241m.\u001b[39mR_sp)[\u001b[38;5;241m0\u001b[39m]\n",
      "\u001b[1;31mTypeError\u001b[0m: '>=' not supported between instances of 'function' and 'float'"
     ]
    }
   ],
   "source": [
    "rho_sat = []\n",
    "J = []\n",
    "density = []\n",
    "t = 3.15 * 10**17  # in s\n",
    "for i in range(len(sigma_v)):\n",
    "    rh = m_chi / (sigma_v[i] * t)\n",
    "    rho_sat.append(rh)\n",
    "    a = pm(halo_types=['NFW'], spike_types=['GS'],r=r,rho_sat=rh)\n",
    "    d = a.density['NFW']['GS']**2 * 2 *np.pi\n",
    "    density.append(d)\n",
    "    #integral, error = dblquad(d, 0, np.pi/180, 0, lambda theta: np.sqrt(a.R200 - a.R_sun**2 * np.sin(theta)**2) + a.R_sun*np.cos(theta))\n",
    "density   \n",
    "\n",
    "\n",
    "\n"
   ]
  },
  {
   "cell_type": "markdown",
   "metadata": {},
   "source": [
    "# Using individual functions as previous codes"
   ]
  },
  {
   "cell_type": "code",
   "execution_count": 21,
   "metadata": {},
   "outputs": [],
   "source": [
    "\n",
    "# Function to calculate the NFW halo density profile\n",
    "def nfw_halo(r, rs,rhos):\n",
    "    x = r / rs\n",
    "    return rhos / (x * (1 + x)**2)\n"
   ]
  },
  {
   "cell_type": "code",
   "execution_count": 20,
   "metadata": {},
   "outputs": [],
   "source": [
    "a = pm(halo_types=['NFW'],spike_types=['GS'])"
   ]
  },
  {
   "cell_type": "code",
   "execution_count": 23,
   "metadata": {},
   "outputs": [],
   "source": [
    "\n",
    "\n",
    "# Function to calculate the Milky Way density profile based on Gondolo-Silk model\n",
    "def mw_density_GS(r,rs,rhos,Rs, Rsat, Rsp, gamma_sp, rho_sat):\n",
    "    \n",
    "    density = np.zeros_like(r)\n",
    "\n",
    "    # Condition 1: r < 2RS\n",
    "    mask_condition_1 = r < 2 * Rs\n",
    "    density[mask_condition_1] = 0\n",
    "\n",
    "    # Condition 2: 2RS ≤ r < Rsat\n",
    "    mask_condition_2 = (r >= 2 * Rs) & (r < Rsat)\n",
    "    density[mask_condition_2] = rho_sat * (r[mask_condition_2] / Rsat)**(-0.5)\n",
    "\n",
    "    # Condition 3: Rsat ≤ r < Rsp\n",
    "    mask_condition_3 = (r >= Rsat) & (r < Rsp)\n",
    "    x = r[mask_condition_3] / Rsp\n",
    "    density[mask_condition_3] = nfw_halo(Rsp,rs,rhos) * x**(-gamma_sp)\n",
    "\n",
    "    # Condition 4: r ≥ Rsp\n",
    "    mask_condition_4 = r >= Rsp\n",
    "    density[mask_condition_4] = nfw_halo(r[mask_condition_4],rs,rhos)\n",
    "\n",
    "    return density\n",
    "\n"
   ]
  },
  {
   "cell_type": "code",
   "execution_count": 24,
   "metadata": {},
   "outputs": [],
   "source": [
    "\n",
    "\n",
    "# Constants and parameters\n",
    "rs = 18.6  # Scale radius in kpc\n",
    "rho0 = 0.383  # Local DM density in GeV/cm^3\n",
    "r0 = 8.2  # Sun position in kpc\n",
    "m_chi = 1000# Dark matter mass in GeV\n",
    "t = 3.15 * 10**17  # in s\n",
    "rhos = (rho0 * ((r0 / rs) * (1 + r0 / rs)**(2)))\n",
    "R = 200\n",
    "# Parameters for the Milky Way density profile\n",
    "Rs = 3.8 * 10**(-11)  # Example value for Rs\n",
    "Rsp = 0.34 * 10**(-3)  # Example value for Rsp\n",
    "gamma_sp = 2.35  # Example value for gamma_sp\n",
    "\n"
   ]
  },
  {
   "cell_type": "code",
   "execution_count": 40,
   "metadata": {},
   "outputs": [],
   "source": [
    "sigma_v =  np.logspace(-33,-19, 200)\n",
    "rho_sat = []\n",
    "R_sat = []\n",
    "\n",
    "# Calculating rho_sat and R_sat\n",
    "for i in range(len(sigma_v)):\n",
    "    rh = m_chi / (sigma_v[i] * t)\n",
    "    rho_sat.append(rh) \n",
    "    r_sat = (((a.rho_s/ rh) * (a.r_s / a.R_sp) * ((1 + (a.R_sp / a.r_s))**(-2)))**(1 / a.gamma_sp)) * a.R_sp\n",
    "    R_sat.append(r_sat)"
   ]
  },
  {
   "cell_type": "code",
   "execution_count": null,
   "metadata": {},
   "outputs": [],
   "source": [
    "J = []\n",
    "for i in range(len(sigma_v)):\n",
    "    integrand = lambda l,theta : (mw_density_GS(np.sqrt(a.R_sun**2-2*a.R_sun*l*np.cos(theta)+l**2),a.r_s,a.rho_s, a.R_S, R_sat[i], a.R_sp, a.gamma_sp, rho_sat[i])**2) * np.sin(theta) * 2 * np.pi\n",
    "    integral, error = dblquad(integrand, 0.01*np.pi/180, 0.7*np.pi/180, 0, lambda theta: np.sqrt(a.R200 - a.R_sun**2 * np.sin(theta)**2) + a.R_sun*np.cos(theta))\n",
    "    print(integral)\n",
    "    J.append(integral)"
   ]
  },
  {
   "cell_type": "code",
   "execution_count": 49,
   "metadata": {},
   "outputs": [
    {
     "name": "stderr",
     "output_type": "stream",
     "text": [
      "C:\\Users\\RITABIK BANERJEE\\AppData\\Local\\Temp\\ipykernel_10472\\4036631509.py:4: IntegrationWarning: The algorithm does not converge.  Roundoff error is detected\n",
      "  in the extrapolation table.  It is assumed that the requested tolerance\n",
      "  cannot be achieved, and that the returned result (if full_output = 1) is \n",
      "  the best which can be obtained.\n",
      "  integral, error = quad(integrand,0,a.R_sun+a.R200)\n",
      "C:\\Users\\RITABIK BANERJEE\\AppData\\Local\\Temp\\ipykernel_10472\\4036631509.py:4: IntegrationWarning: The maximum number of subdivisions (50) has been achieved.\n",
      "  If increasing the limit yields no improvement it is advised to analyze \n",
      "  the integrand in order to determine the difficulties.  If the position of a \n",
      "  local difficulty can be determined (singularity, discontinuity) one will \n",
      "  probably gain from splitting up the interval and calling the integrator \n",
      "  on the subranges.  Perhaps a special-purpose integrator should be used.\n",
      "  integral, error = quad(integrand,0,a.R_sun+a.R200)\n",
      "C:\\Users\\RITABIK BANERJEE\\AppData\\Local\\Temp\\ipykernel_10472\\4036631509.py:4: IntegrationWarning: The integral is probably divergent, or slowly convergent.\n",
      "  integral, error = quad(integrand,0,a.R_sun+a.R200)\n"
     ]
    }
   ],
   "source": [
    "J = []\n",
    "for i in range(len(sigma_v)):\n",
    "    integrand = lambda l: (mw_density_GS(np.abs(a.R_sun-l),a.r_s,a.rho_s, a.R_S, R_sat[i], a.R_sp, a.gamma_sp, rho_sat[i])**2)  * 4 * np.pi\n",
    "    integral, error = quad(integrand,0,a.R_sun+a.R200)\n",
    "    J.append(integral)"
   ]
  },
  {
   "cell_type": "code",
   "execution_count": 50,
   "metadata": {},
   "outputs": [
    {
     "data": {
      "image/png": "[encoded data removed]",
      "text/plain": [
       "<Figure size 432x288 with 1 Axes>"
      ]
     },
     "metadata": {
      "needs_background": "light"
     },
     "output_type": "display_data"
    }
   ],
   "source": [
    "# Calculate J factors\n",
    "plt.plot(sigma_v, J,label='GS', color='b')\n",
    "plt.xlabel(r'$\\langle \\sigma v \\rangle$')\n",
    "plt.ylabel('J_factor (GeV/cm^5)')\n",
    "plt.title('Milky Way DM Density GS Profile')\n",
    "plt.xscale('log')\n",
    "plt.yscale('log')\n",
    "plt.grid(True)\n",
    "plt.legend()\n",
    "plt.show()"
   ]
  },
  {
   "cell_type": "code",
   "execution_count": 111,
   "metadata": {},
   "outputs": [
    {
     "name": "stderr",
     "output_type": "stream",
     "text": [
      "C:\\Users\\RITABIK BANERJEE\\AppData\\Local\\Temp\\ipykernel_8052\\4079117951.py:62: IntegrationWarning: The algorithm does not converge.  Roundoff error is detected\n",
      "  in the extrapolation table.  It is assumed that the requested tolerance\n",
      "  cannot be achieved, and that the returned result (if full_output = 1) is \n",
      "  the best which can be obtained.\n",
      "  result, error = quad(integrand,0, R+r0, args=(rs,r0, rhos, Rs, R_sat[i], Rsp, gamma_sp, rho_sat[i]))\n"
     ]
    },
    {
     "data": {
      "image/png": "[encoded data removed]",
      "text/plain": [
       "<Figure size 720x432 with 1 Axes>"
      ]
     },
     "metadata": {
      "needs_background": "light"
     },
     "output_type": "display_data"
    }
   ],
   "source": [
    "import numpy as np\n",
    "import matplotlib.pyplot as plt\n",
    "from scipy.integrate import dblquad\n",
    "from scipy.integrate import quad\n",
    "\n",
    "# Function to calculate the NFW halo density profile\n",
    "def nfw_halo(r, rs, rhos):\n",
    "    x = r / rs\n",
    "    return rhos / (x * (1 + x)**2)\n",
    "\n",
    "# Function to calculate the Milky Way density profile based on Gondolo-Silk model\n",
    "def mw_density_GS1(l,rs,r0, rhos, Rs, Rsat, Rsp, gamma_sp, rho_sat):\n",
    "    r = np.abs(r0-l)\n",
    "    \n",
    "    if r < 2 * Rs:\n",
    "        return 0\n",
    "    elif 2 * Rs <= r < Rsat:\n",
    "        return rho_sat * (r / Rsat) ** (-0.5)\n",
    "    elif Rsat <= r < Rsp:\n",
    "        x = r / Rsp\n",
    "        return nfw_halo(Rsp, rs, rhos) * x**-gamma_sp\n",
    "    else:\n",
    "        return nfw_halo(r, rs, rhos)\n",
    "\n",
    "\n",
    "rs = 18.6  # Scale radius in kpc\n",
    "rho0 = 0.383  # Local DM density in GeV/cm^3\n",
    "r0 = 8.2  # Sun position in kpc\n",
    "m_chi_values = [1e3, 1e4, 1e5]  # Dark matter masses in GeV (1, 10, 100 TeV)\n",
    "t = 3.15 * 10**17  # in s\n",
    "rhos = rho0 * ((r0 / rs) * (1 + r0 / rs)**2)\n",
    "R = 200  # Virial radius in kpc\n",
    "\n",
    "# Parameters for the Milky Way density profile\n",
    "Rs = 4.11 * 10**(-10)  # Example value for Rs in kpc\n",
    "Rsp = 0.34 * 10**-3  # Example value for Rsp in kpc\n",
    "gamma_sp = 2.35  # Example value for gamma_sp\n",
    "\n",
    "sigma_v_values = np.logspace(-33, -19, 100)  # cm^3/s, annihilation cross-sections\n",
    "\n",
    "# Calculate rho_sat and R_sat for each sigma_v\n",
    "def calculate_rho_Rsat(m_chi,sigma_v_values):\n",
    "    rho_sat = []\n",
    "    R_sat = []\n",
    "    for sigma_v in sigma_v_values:\n",
    "        rho_sat_value = m_chi / (sigma_v * t)\n",
    "        rho_sat.append(rho_sat_value)\n",
    "        r_sat_value = (((rhos / rho_sat_value) * (rs / Rsp) * ((1 + (Rsp / rs))**-2))**(1 / gamma_sp)) * Rsp\n",
    "        R_sat.append(r_sat_value)\n",
    "    return rho_sat, R_sat\n",
    "\n",
    "# Integrand for the J-factor\n",
    "def integrand(l,rs,r0, rhos, Rs, R_sat, Rsp, gamma_sp, rho_sat):\n",
    "    density = mw_density_GS1(l,rs,r0, rhos, Rs, R_sat, Rsp, gamma_sp, rho_sat)\n",
    "    return density**2 *4 * np.pi\n",
    "\n",
    "# Calculate J factors\n",
    "def calculate_J_factors(m_chi):\n",
    "    rho_sat, R_sat = calculate_rho_Rsat(m_chi)\n",
    "    J_factors = []\n",
    "    for i in range(len(sigma_v_values)):\n",
    "        result, error = quad(integrand,0, R+r0, args=(rs,r0, rhos, Rs, R_sat[i], Rsp, gamma_sp, rho_sat[i]))\n",
    "        J_factors.append(result)\n",
    "    return J_factors\n",
    "\n",
    "# Plotting\n",
    "plt.figure(figsize=(10, 6))\n",
    "linestyles = ['--', '-.', ':']\n",
    "for i, m_chi in enumerate(m_chi_values):\n",
    "    J_factors = calculate_J_factors(m_chi)\n",
    "    plt.plot(sigma_v_values, J_factors, label=f'$m_\\\\chi = {m_chi / 1e3} \\\\,$ TeV', linestyle=linestyles[i])\n",
    "\n",
    "plt.xscale('log')\n",
    "plt.yscale('log')\n",
    "plt.xlabel(r'$\\langle \\sigma v \\rangle$')\n",
    "plt.ylabel(r'$J$-factor (GeV/cm$^5$)')\n",
    "plt.legend()\n",
    "plt.grid(True)\n",
    "plt.show()\n"
   ]
  },
  {
   "cell_type": "code",
   "execution_count": 456,
   "metadata": {},
   "outputs": [],
   "source": [
    "import profiles as tp\n",
    "from profiles import Constants as pc\n",
    "from profiles import MWDensity as pm"
   ]
  },
  {
   "cell_type": "code",
   "execution_count": 457,
   "metadata": {},
   "outputs": [],
   "source": [
    "a = pm(halo_types = ['NFW'],spike_types = ['GS'])"
   ]
  },
  {
   "cell_type": "code",
   "execution_count": 431,
   "metadata": {},
   "outputs": [],
   "source": [
    "a.r = lambda l: np.abs(a.R_sun-l)\n",
    "\n",
    "r = a.r"
   ]
  },
  {
   "cell_type": "code",
   "execution_count": 458,
   "metadata": {},
   "outputs": [],
   "source": [
    "sigma_v =  np.logspace(-33,-19, 100)"
   ]
  },
  {
   "cell_type": "code",
   "execution_count": 459,
   "metadata": {},
   "outputs": [
    {
     "ename": "AttributeError",
     "evalue": "'MWDensity' object has no attribute 'calculate_rho_sat_R_sat'",
     "output_type": "error",
     "traceback": [
      "\u001b[1;31m---------------------------------------------------------------------------\u001b[0m",
      "\u001b[1;31mAttributeError\u001b[0m                            Traceback (most recent call last)",
      "Input \u001b[1;32mIn [459]\u001b[0m, in \u001b[0;36m<cell line: 1>\u001b[1;34m()\u001b[0m\n\u001b[1;32m----> 1\u001b[0m R_sat,rho_sat\u001b[38;5;241m=\u001b[39m\u001b[43ma\u001b[49m\u001b[38;5;241;43m.\u001b[39;49m\u001b[43mcalculate_rho_sat_R_sat\u001b[49m(\u001b[38;5;241m1e3\u001b[39m,sigma_v)\n",
      "\u001b[1;31mAttributeError\u001b[0m: 'MWDensity' object has no attribute 'calculate_rho_sat_R_sat'"
     ]
    }
   ],
   "source": [
    "R_sat,rho_sat=a.calculate_rho_sat_R_sat(1e3,sigma_v)"
   ]
  },
  {
   "cell_type": "code",
   "execution_count": 411,
   "metadata": {},
   "outputs": [
    {
     "ename": "AttributeError",
     "evalue": "'MWDensity' object has no attribute 'calculate_density'",
     "output_type": "error",
     "traceback": [
      "\u001b[1;31m---------------------------------------------------------------------------\u001b[0m",
      "\u001b[1;31mAttributeError\u001b[0m                            Traceback (most recent call last)",
      "Input \u001b[1;32mIn [411]\u001b[0m, in \u001b[0;36m<cell line: 1>\u001b[1;34m()\u001b[0m\n\u001b[1;32m----> 1\u001b[0m J \u001b[38;5;241m=\u001b[39m quad(\u001b[43ma\u001b[49m\u001b[38;5;241;43m.\u001b[39;49m\u001b[43mcalculate_density\u001b[49m(R_sat[i], rho_sat[i],r)\u001b[38;5;241m*\u001b[39m\u001b[38;5;241m*\u001b[39m\u001b[38;5;241m2\u001b[39m \u001b[38;5;241m*\u001b[39m \u001b[38;5;241m4\u001b[39m \u001b[38;5;241m*\u001b[39m np\u001b[38;5;241m.\u001b[39mpi,\u001b[38;5;241m0\u001b[39m,a\u001b[38;5;241m.\u001b[39mR_sun\u001b[38;5;241m+\u001b[39mR)\n",
      "\u001b[1;31mAttributeError\u001b[0m: 'MWDensity' object has no attribute 'calculate_density'"
     ]
    }
   ],
   "source": [
    "\n",
    "\n",
    "J = quad(a.calculate_density(R_sat[i], rho_sat[i],r)**2 * 4 * np.pi,0,a.R_sun+R)\n"
   ]
  }
 ],
 "metadata": {
  "kernelspec": {
   "display_name": "Python 3",
   "language": "python",
   "name": "python3"
  },
  "language_info": {
   "codemirror_mode": {
    "name": "ipython",
    "version": 3
   },
   "file_extension": ".py",
   "mimetype": "text/x-python",
   "name": "python",
   "nbconvert_exporter": "python",
   "pygments_lexer": "ipython3",
   "version": "3.9.2"
  }
 },
 "nbformat": 4,
 "nbformat_minor": 2
}
