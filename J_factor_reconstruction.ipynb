{
 "cells": [
  {
   "cell_type": "code",
   "execution_count": 39,
   "metadata": {},
   "outputs": [
    {
     "ename": "ValueError",
     "evalue": "operands could not be broadcast together with shapes (0,) (100,) ",
     "output_type": "error",
     "traceback": [
      "\u001b[1;31m---------------------------------------------------------------------------\u001b[0m",
      "\u001b[1;31mValueError\u001b[0m                                Traceback (most recent call last)",
      "Input \u001b[1;32mIn [39]\u001b[0m, in \u001b[0;36m<cell line: 57>\u001b[1;34m()\u001b[0m\n\u001b[0;32m     54\u001b[0m Rsat \u001b[38;5;241m=\u001b[39m (((rhos\u001b[38;5;241m/\u001b[39mrho_sat)\u001b[38;5;241m*\u001b[39m(rs\u001b[38;5;241m/\u001b[39mRsp)\u001b[38;5;241m*\u001b[39m((\u001b[38;5;241m1\u001b[39m\u001b[38;5;241m+\u001b[39m(Rsp\u001b[38;5;241m/\u001b[39mrs))\u001b[38;5;241m*\u001b[39m\u001b[38;5;241m*\u001b[39m(\u001b[38;5;241m-\u001b[39m\u001b[38;5;241m2\u001b[39m)))\u001b[38;5;241m*\u001b[39m\u001b[38;5;241m*\u001b[39m(\u001b[38;5;241m1\u001b[39m\u001b[38;5;241m/\u001b[39mgamma_sp))\u001b[38;5;241m*\u001b[39mRsp\n\u001b[0;32m     56\u001b[0m \u001b[38;5;66;03m# Calculate the density profile for the Milky Way\u001b[39;00m\n\u001b[1;32m---> 57\u001b[0m density_mw_GS \u001b[38;5;241m=\u001b[39m \u001b[43mmw_density_GS\u001b[49m\u001b[43m(\u001b[49m\u001b[43mr\u001b[49m\u001b[43m,\u001b[49m\u001b[43m \u001b[49m\u001b[43mRs\u001b[49m\u001b[43m,\u001b[49m\u001b[43m \u001b[49m\u001b[43mRsat\u001b[49m\u001b[43m,\u001b[49m\u001b[43m \u001b[49m\u001b[43mRsp\u001b[49m\u001b[43m,\u001b[49m\u001b[43mgamma_sp\u001b[49m\u001b[43m)\u001b[49m\n\u001b[0;32m     59\u001b[0m \u001b[38;5;66;03m# Plot the Milky Way density profile\u001b[39;00m\n\u001b[0;32m     60\u001b[0m plt\u001b[38;5;241m.\u001b[39mplot(r, density_mw_GS,label\u001b[38;5;241m=\u001b[39m\u001b[38;5;124m'\u001b[39m\u001b[38;5;124mGS\u001b[39m\u001b[38;5;124m'\u001b[39m, color\u001b[38;5;241m=\u001b[39m\u001b[38;5;124m'\u001b[39m\u001b[38;5;124mb\u001b[39m\u001b[38;5;124m'\u001b[39m)\n",
      "Input \u001b[1;32mIn [39]\u001b[0m, in \u001b[0;36mmw_density_GS\u001b[1;34m(r, Rs, Rsat, Rsp, gamma_sp)\u001b[0m\n\u001b[0;32m     31\u001b[0m \u001b[38;5;66;03m# Condition 2: 2RS ≤ r < Rsat\u001b[39;00m\n\u001b[0;32m     32\u001b[0m mask_condition_2 \u001b[38;5;241m=\u001b[39m (r \u001b[38;5;241m>\u001b[39m\u001b[38;5;241m=\u001b[39m \u001b[38;5;241m2\u001b[39m \u001b[38;5;241m*\u001b[39m Rs) \u001b[38;5;241m&\u001b[39m (r \u001b[38;5;241m<\u001b[39m Rsat)\n\u001b[1;32m---> 33\u001b[0m density[mask_condition_2] \u001b[38;5;241m=\u001b[39m rho_sat \u001b[38;5;241m*\u001b[39m (\u001b[43mr\u001b[49m\u001b[43m[\u001b[49m\u001b[43mmask_condition_2\u001b[49m\u001b[43m]\u001b[49m\u001b[43m \u001b[49m\u001b[38;5;241;43m/\u001b[39;49m\u001b[43m \u001b[49m\u001b[43mRsat\u001b[49m)\u001b[38;5;241m*\u001b[39m\u001b[38;5;241m*\u001b[39m(\u001b[38;5;241m-\u001b[39m\u001b[38;5;241m0.5\u001b[39m)\n\u001b[0;32m     35\u001b[0m \u001b[38;5;66;03m# Condition 3: Rsat ≤ r < Rsp\u001b[39;00m\n\u001b[0;32m     36\u001b[0m mask_condition_3 \u001b[38;5;241m=\u001b[39m (r \u001b[38;5;241m>\u001b[39m\u001b[38;5;241m=\u001b[39m Rsat) \u001b[38;5;241m&\u001b[39m (r \u001b[38;5;241m<\u001b[39m Rsp)\n",
      "\u001b[1;31mValueError\u001b[0m: operands could not be broadcast together with shapes (0,) (100,) "
     ]
    }
   ],
   "source": [
    "import numpy as np\n",
    "import matplotlib.pyplot as plt\n",
    "\n",
    "# Constants and parameters\n",
    "rs = 18.6  # Scale radius in kpc\n",
    "rho0 = 0.383  # Local DM density in GeV/cm^3\n",
    "r0 = 8.2  # Sun position in kpc\n",
    "m_chi = 10**3\n",
    "t = 3.15 * 10**17 # in s\n",
    "\n",
    "sigma_v = np.logspace(-33,-18,100)\n",
    "\n",
    "\n",
    "rho_sat = m_chi/(sigma_v*t)\n",
    "\n",
    "\n",
    "\n",
    "# Function to calculate the NFW halo density profile\n",
    "def nfw_halo(r, rs):\n",
    "    x = r / rs\n",
    "    return rhos / (x * (1 + x)**2)\n",
    "\n",
    "# Function to calculate the DM mass density of the Milky Way\n",
    "def mw_density_GS(r, Rs, Rsat, Rsp,gamma_sp):\n",
    "    density = np.zeros_like(r)\n",
    "\n",
    "    # Condition 1: r < 2RS\n",
    "    mask_condition_1 = r < 2 * Rs\n",
    "    density[mask_condition_1] = 0\n",
    "\n",
    "    # Condition 2: 2RS ≤ r < Rsat\n",
    "    mask_condition_2 = (r >= 2 * Rs) & (r < Rsat)\n",
    "    density[mask_condition_2] = rho_sat * (r[mask_condition_2] / Rsat)**(-0.5)\n",
    "\n",
    "    # Condition 3: Rsat ≤ r < Rsp\n",
    "    mask_condition_3 = (r >= Rsat) & (r < Rsp)\n",
    "    x = r[mask_condition_3]/ Rsp\n",
    "    density[mask_condition_3] = nfw_halo(Rsp, rs)*x**(-gamma_sp)\n",
    "\n",
    "    # Condition 4: r ≥ Rsp\n",
    "    mask_condition_4 = r >= Rsp\n",
    "    density[mask_condition_4] = nfw_halo(r[mask_condition_4], rs)\n",
    "\n",
    "    return density\n",
    "\n",
    "# Generate radii from 0.01 to 100 times the scale radius\n",
    "r = np.logspace(-9, 0, 100)\n",
    "rhos = (rho0 * ((r0 / rs) * (1 + r0 / rs)**(2)))\n",
    "# Parameters for the Milky Way density profile\n",
    "Rs = 3.8*10**(-11)  # Example value for Rs# Example value for Rsat\n",
    "Rsp = 0.34*10**(-3)  # Example value for Rsp\n",
    " # Example value for rhosat\n",
    "gamma_sp=2.35\n",
    "Rsat = (((rhos/rho_sat)*(rs/Rsp)*((1+(Rsp/rs))**(-2)))**(1/gamma_sp))*Rsp\n",
    "\n",
    "# Calculate the density profile for the Milky Way\n",
    "density_mw_GS = mw_density_GS(r, Rs, Rsat, Rsp,gamma_sp)\n",
    "\n",
    "# Plot the Milky Way density profile\n",
    "plt.plot(r, density_mw_GS,label='GS', color='b')\n",
    "plt.xlabel('Radius (r in kpc)')\n",
    "\n",
    "plt.ylabel('Density (rho in GeV/cm^3)')\n",
    "plt.title('Milky Way DM Density Profile')\n",
    "plt.xscale('log')\n",
    "plt.yscale('log')\n",
    "plt.grid(True)\n",
    "plt.legend()\n",
    "plt.xlim([10**(-9), 1])  # Set the desired x-axis limits\n",
    "plt.show()\n"
   ]
  },
  {
   "cell_type": "code",
   "execution_count": 1,
   "metadata": {},
   "outputs": [
    {
     "name": "stderr",
     "output_type": "stream",
     "text": [
      "c:\\python39\\lib\\site-packages\\numpy\\_distributor_init.py:30: UserWarning: loaded more than 1 DLL from .libs:\n",
      "c:\\python39\\lib\\site-packages\\numpy\\.libs\\libopenblas.EL2C6PLE4ZYW3ECEVIV3OXXGRN2NRFM2.gfortran-win_amd64.dll\n",
      "c:\\python39\\lib\\site-packages\\numpy\\.libs\\libopenblas64__v0.3.23-gcc_10_3_0.dll\n",
      "  warnings.warn(\"loaded more than 1 DLL from .libs:\"\n"
     ]
    }
   ],
   "source": [
    "import numpy as np\n",
    "from scipy.integrate import dblquad\n"
   ]
  },
  {
   "cell_type": "code",
   "execution_count": 46,
   "metadata": {},
   "outputs": [
    {
     "data": {
      "image/png": "[encoded data removed]",
      "text/plain": [
       "<Figure size 432x288 with 1 Axes>"
      ]
     },
     "metadata": {
      "needs_background": "light"
     },
     "output_type": "display_data"
    }
   ],
   "source": [
    "import numpy as np\n",
    "from scipy.integrate import dblquad\n",
    "import matplotlib.pyplot as plt\n",
    "\n",
    "\n",
    "\n",
    "# Define the function for r(ψ, l)\n",
    "def r(zi, l):\n",
    "    return np.sqrt(R0**2 - 2*l*R0*np.cos(zi) + l**2)\n",
    "\n",
    "# Define the function for the maximum l\n",
    "def l_max(zi):\n",
    "    return np.sqrt(R**2 - R0**2 * np.sin(zi)**2) + R0 * np.cos(zi)\n",
    "\n",
    "# Define the function to be integrated\n",
    "\n",
    "\n",
    "# Define constants\n",
    "R = 200  # kpc, halo's virial radius\n",
    "R0 = 8.2 # provide the value of r here\n",
    "m_chi = 10**3\n",
    "t = 3.15 * 10**17 # in s\n",
    "rhos = (rho0 * ((R0 / rs) * (1 + R0 / rs)**(2)))\n",
    "\n",
    "# Define the limits for ψ and l\n",
    "ψ_min = 0\n",
    "ψ_max = np.pi / 2\n",
    "\n",
    "# Calculate sigma_v values\n",
    "sigma_v = np.logspace(-33, -18, 100) # provide the value of ρ here\n",
    "rho_sat = []\n",
    "R_sat = []\n",
    "for i in range(len(sigma_v)):\n",
    "    rh = m_chi/(sigma_v[i]*t)\n",
    "    rho_sat.append(rh)\n",
    "\n",
    "for i in range(len(sigma_v)):\n",
    "    r_sat = (((rhos/rho_sat[i])*(rs/Rsp)*((1+(Rsp/rs))**(-2)))**(1/gamma_sp))*Rsp\n",
    "    R_sat.append(r_sat)\n",
    "\n",
    "J = []\n",
    "for i in range(len(sigma_v)):\n",
    "    j = dblquad(lambda zi, l: ((rho_sat[i]*(R_sat[i])**2.35)/r(zi, l)**2.35)**2, 0, np.pi / 2, lambda zi: 0, lambda zi: l_max(zi))\n",
    "\n",
    "    J.append(j[0])  # Return only the result, ignoring the error estimate\n",
    "    \n",
    "# Calculate J factors\n",
    "plt.plot(sigma_v, J,label='GS', color='b')\n",
    "plt.xlabel('Radius (r in kpc)')\n",
    "plt.ylabel('Density (rho in GeV/cm^3)')\n",
    "plt.title('Milky Way DM Density Profile')\n",
    "plt.xscale('log')\n",
    "plt.yscale('log')\n",
    "plt.grid(True)\n",
    "plt.legend()\n",
    "plt.show()"
   ]
  }
 ],
 "metadata": {
  "kernelspec": {
   "display_name": "Python 3",
   "language": "python",
   "name": "python3"
  },
  "language_info": {
   "codemirror_mode": {
    "name": "ipython",
    "version": 3
   },
   "file_extension": ".py",
   "mimetype": "text/x-python",
   "name": "python",
   "nbconvert_exporter": "python",
   "pygments_lexer": "ipython3",
   "version": "3.9.2"
  }
 },
 "nbformat": 4,
 "nbformat_minor": 2
}
