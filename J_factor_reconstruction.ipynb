{
 "cells": [
  {
   "cell_type": "code",
   "execution_count": 13,
   "metadata": {},
   "outputs": [],
   "source": [
    "import numpy as np\n",
    "import matplotlib.pyplot as plt\n",
    "from scipy.integrate import dblquad\n",
    "from scipy.integrate import quad\n"
   ]
  },
  {
   "cell_type": "code",
   "execution_count": 14,
   "metadata": {},
   "outputs": [],
   "source": [
    "from tqdm import tqdm"
   ]
  },
  {
   "cell_type": "markdown",
   "metadata": {},
   "source": [
    "# Using individual functions as previous codes"
   ]
  },
  {
   "cell_type": "code",
   "execution_count": 15,
   "metadata": {},
   "outputs": [],
   "source": [
    "\n",
    "# Function to calculate the NFW halo density profile\n",
    "def nfw_halo(r, rs,rhos):\n",
    "    x = r / rs\n",
    "    return rhos / (x * (1 + x)**2)\n"
   ]
  },
  {
   "cell_type": "code",
   "execution_count": 16,
   "metadata": {},
   "outputs": [],
   "source": [
    "# Constants and parameters\n",
    "rs = 18.6  # Scale radius in kpc\n",
    "rho0 = 0.383  # Local DM density in GeV/cm^3\n",
    "r0 = 8.2  # Sun position in kpc\n",
    "m_chi = 1000# Dark matter mass in GeV\n",
    "t = 3.15 * 10**17  # in s\n",
    "rhos = (rho0 * ((r0 / rs) * (1 + r0 / rs)**(2)))\n",
    "R = 200\n",
    "# Parameters for the Milky Way density profile\n",
    "Rs = 3.8 * 10**(-11)  # Example value for Rs\n",
    "Rsp = 0.34 * 10**(-3)  # Example value for Rsp\n",
    "gamma_sp = 2.35  # Example value for gamma_sp\n"
   ]
  },
  {
   "cell_type": "code",
   "execution_count": 17,
   "metadata": {},
   "outputs": [],
   "source": [
    "sigma_v =  np.logspace(-33,-19,10)\n",
    "rho_sat = []\n",
    "R_sat = []\n",
    "\n",
    "# Calculating rho_sat and R_sat\n",
    "for i in range(len(sigma_v)):\n",
    "    rh = m_chi / (sigma_v[i] * t)\n",
    "    rho_sat.append(rh) \n",
    "    r_sat = (((rhos/ rh) * (rs / Rsp) * ((1 + (Rsp / rs))**(-2)))**(1 / gamma_sp)) * Rsp\n",
    "    R_sat.append(r_sat)"
   ]
  },
  {
   "cell_type": "code",
   "execution_count": 18,
   "metadata": {},
   "outputs": [
    {
     "name": "stderr",
     "output_type": "stream",
     "text": [
      "C:\\Users\\RITABIK BANERJEE\\AppData\\Local\\Temp\\ipykernel_12280\\2902166896.py:24: IntegrationWarning: The algorithm does not converge.  Roundoff error is detected\n",
      "  in the extrapolation table.  It is assumed that the requested tolerance\n",
      "  cannot be achieved, and that the returned result (if full_output = 1) is \n",
      "  the best which can be obtained.\n",
      "  J, _ = quad(integrand, 0, l_max)\n"
     ]
    },
    {
     "data": {
      "image/png": "[encoded data removed]",
      "text/plain": [
       "<Figure size 432x288 with 1 Axes>"
      ]
     },
     "metadata": {
      "needs_background": "light"
     },
     "output_type": "display_data"
    }
   ],
   "source": [
    "def nfw_halo(r, rs, rhos):\n",
    "    return rhos / ((r/rs) * (1 + r/rs)**2)\n",
    "\n",
    "# Function to calculate r(l, r0)\n",
    "def r_func(l, r0, psi):\n",
    "    return np.sqrt(r0**2 - 2 * r0 * l * np.cos(psi) + l**2)\n",
    "\n",
    "# Calculate l_max for each psi\n",
    "psi = np.linspace(0, np.pi, 100)\n",
    "\n",
    "l_max_list = []\n",
    "\n",
    "for psi_val in psi:\n",
    "    l_max = r0 * np.cos(psi_val) + np.sqrt(R**2 - r0**2 * np.sin(psi_val)**2)\n",
    "    l_max_list.append(l_max)\n",
    "\n",
    "# Calculate J_factor for each psi\n",
    "J_factor = []\n",
    "\n",
    "for i in range(len(psi)):\n",
    "    psi_val = psi[i]\n",
    "    l_max = l_max_list[i]\n",
    "    integrand = lambda l: nfw_halo(r_func(l, r0, psi_val), rs, rhos)**2/ (rho0**2 * r0)\n",
    "    J, _ = quad(integrand, 0, l_max)\n",
    "    J_factor.append(J)\n",
    "\n",
    "# Plot J_factor vs psi\n",
    "plt.plot(psi*180/np.pi, J_factor)\n",
    "plt.xlabel('psi (degrees)')\n",
    "#plt.xscale('log')\n",
    "plt.yscale('log')\n",
    "plt.ylabel('J(psi)')\n",
    "plt.xlim(0,180)\n",
    "plt.title('J(psi) vs psi')\n",
    "plt.grid(True)\n",
    "plt.show()"
   ]
  },
  {
   "cell_type": "markdown",
   "metadata": {},
   "source": [
    "# Code of the region from Rs to Rsat"
   ]
  },
  {
   "cell_type": "code",
   "execution_count": 19,
   "metadata": {},
   "outputs": [],
   "source": [
    "psi_Rs = np.linspace(0,np.arctan(2*Rs/r0),len(sigma_v))\n",
    "psi_Rs_to_Rsat = []\n",
    "for i in range(len(R_sat)):\n",
    "    p = np.linspace(np.max(psi_Rs),np.arctan(R_sat[i]/r0),len(sigma_v))\n",
    "    psi_Rs_to_Rsat.append(p)"
   ]
  },
  {
   "cell_type": "code",
   "execution_count": 164,
   "metadata": {},
   "outputs": [],
   "source": [
    "l_Rs1 = [r0 * np.cos(p) + np.sqrt(16*Rs**2 - r0**2 * np.sin(p)**2) for p in psi_Rs]\n",
    "l_Rs2 = [r0 * np.cos(p) - np.sqrt(16*Rs**2 - r0**2 * np.sin(p)**2) for p in psi_Rs]\n",
    "\n",
    "l_Rsat_new_1 = []\n",
    "for i in range(len(psi_Rs)):\n",
    "    l_Rsat_new = []\n",
    "    for j in range(len(psi_Rs)):\n",
    "        l_Rsat_1 = r0 * np.cos(psi_Rs[j]) + np.sqrt(R_sat[i]**2 - r0**2 * np.sin(psi_Rs[j])**2)\n",
    "        l_Rsat_new.append(l_Rsat_1)\n",
    "    l_Rsat_new_1.append(l_Rsat_new)\n",
    "\n",
    "l_Rsat_new_2 = []\n",
    "for i in range(len(psi_Rs_to_Rsat)):\n",
    "    l_Rsat_new1 = []\n",
    "    for j in range(len(psi_Rs_to_Rsat[i])):\n",
    "        l_Rsat_2 = r0 * np.cos(psi_Rs_to_Rsat[i][j]) + np.sqrt(max(1e-30,R_sat[i]**2 - r0**2 * np.sin(psi_Rs_to_Rsat[i][j])**2))\n",
    "        l_Rsat_new1.append(l_Rsat_2)\n",
    "    l_Rsat_new_2.append(l_Rsat_new1)\n",
    "\n",
    "l_Rsat_new_3 = []\n",
    "for i in range(len(psi_Rs_to_Rsat)):\n",
    "    l_Rsat_new3 = []\n",
    "    for j in range(len(psi_Rs_to_Rsat[i])):\n",
    "        l_Rsat_3 = r0 * np.cos(psi_Rs_to_Rsat[i][j]) - np.sqrt(max(1e-30,R_sat[i]**2 - r0**2 * np.sin(psi_Rs_to_Rsat[i][j])**2))\n",
    "        l_Rsat_new3.append(l_Rsat_3)\n",
    "    l_Rsat_new_3.append(l_Rsat_new3)\n",
    "\n",
    "l_Rsat_new_4 = []\n",
    "for i in range(len(psi_Rs)):\n",
    "    l_Rsat_new4 = []\n",
    "    for j in range(len(psi_Rs)):\n",
    "        l_Rsat_4 = r0 * np.cos(psi_Rs[j]) - np.sqrt(R_sat[i]**2 - r0**2 * np.sin(psi_Rs[j])**2)\n",
    "        l_Rsat_new4.append(l_Rsat_4)\n",
    "    l_Rsat_new_4.append(l_Rsat_new4)\n"
   ]
  },
  {
   "cell_type": "code",
   "execution_count": 191,
   "metadata": {},
   "outputs": [
    {
     "data": {
      "text/plain": [
       "[0.0,\n",
       " 2.6722774923949245e+28,\n",
       " 9.566472715052433e+26,\n",
       " 2.386710704520387e+25,\n",
       " 5.2149985324567795e+23,\n",
       " 1.0648939508119554e+22,\n",
       " 2.0860962096269292e+20,\n",
       " 3.97250419649772e+18,\n",
       " 7.410132136626136e+16,\n",
       " 1360646201145397.2]"
      ]
     },
     "execution_count": 191,
     "metadata": {},
     "output_type": "execute_result"
    }
   ],
   "source": [
    "J_inner1_1st = []\n",
    "for i in range(len(psi_Rs)):\n",
    "    J_inner1 = 0\n",
    "    for j in range(len(psi_Rs)):\n",
    "        r_func = lambda l,psi:np.sqrt(max(1e-2,r0**2 - 2 * r0 * l * np.cos(psi) + l**2))\n",
    "        integrand_inner1 = lambda l: (rho_sat[i]* (r_func(l,psi_Rs[i]) / R_sat[i])**(-0.5))**2 * np.sin(psi_Rs[i]) * 2 * np.pi * 3.08e21\n",
    "        integral1 = quad(integrand_inner1, l_Rs1[i], l_Rsat_new_1[i][j])[0]\n",
    "        J_inner1 += integral1\n",
    "    J_inner1_1st.append(J_inner1)\n",
    "\n",
    "J_inner1_1st"
   ]
  },
  {
   "cell_type": "code",
   "execution_count": 192,
   "metadata": {},
   "outputs": [
    {
     "name": "stderr",
     "output_type": "stream",
     "text": [
      "C:\\Users\\RITABIK BANERJEE\\AppData\\Local\\Temp\\ipykernel_12280\\946573145.py:7: IntegrationWarning: The occurrence of roundoff error is detected, which prevents \n",
      "  the requested tolerance from being achieved.  The error may be \n",
      "  underestimated.\n",
      "  integral2 = quad(integrand_inner2, l_Rsat_new_3[i][j], l_Rsat_new_2[i][j])[0]\n",
      "C:\\Users\\RITABIK BANERJEE\\AppData\\Local\\Temp\\ipykernel_12280\\946573145.py:7: IntegrationWarning: The maximum number of subdivisions (50) has been achieved.\n",
      "  If increasing the limit yields no improvement it is advised to analyze \n",
      "  the integrand in order to determine the difficulties.  If the position of a \n",
      "  local difficulty can be determined (singularity, discontinuity) one will \n",
      "  probably gain from splitting up the interval and calling the integrator \n",
      "  on the subranges.  Perhaps a special-purpose integrator should be used.\n",
      "  integral2 = quad(integrand_inner2, l_Rsat_new_3[i][j], l_Rsat_new_2[i][j])[0]\n"
     ]
    },
    {
     "data": {
      "text/plain": [
       "[7.73746006749702e+28,\n",
       " 1.2628866668039902e+27,\n",
       " 2.0612484190916595e+25,\n",
       " 3.364312219686504e+23,\n",
       " 5.491136636757188e+21,\n",
       " 2.330244844888402e+21,\n",
       " 8.060198997668206e+20,\n",
       " 2.776530786323916e+20,\n",
       " 9.55304962143976e+19,\n",
       " 1.1980252868010035e+19]"
      ]
     },
     "execution_count": 192,
     "metadata": {},
     "output_type": "execute_result"
    }
   ],
   "source": [
    "J_inner1_2nd = []\n",
    "for i in range(len(psi_Rs_to_Rsat)):\n",
    "    J_inner1 = 0\n",
    "    for j in range(len(psi_Rs_to_Rsat)):\n",
    "        r_func = lambda l,psi:np.sqrt(max(1e-8,r0**2 - 2 * r0 * l * np.cos(psi) + l**2))\n",
    "        integrand_inner2 = lambda l: (rho_sat[i]* (r_func(l,psi_Rs_to_Rsat[i][j]) / R_sat[i])**(-0.5))**2 * np.sin(psi_Rs_to_Rsat[i][j]) * 2 * np.pi * 3.08e21\n",
    "        integral2 = quad(integrand_inner2, l_Rsat_new_3[i][j], l_Rsat_new_2[i][j])[0]\n",
    "        J_inner1 += integral2\n",
    "    J_inner1_2nd.append(integral2)\n",
    "\n",
    "J_inner1_2nd\n"
   ]
  },
  {
   "cell_type": "code",
   "execution_count": 193,
   "metadata": {},
   "outputs": [
    {
     "data": {
      "text/plain": [
       "[0.0,\n",
       " 2.6722774923949245e+28,\n",
       " 9.566472715052433e+26,\n",
       " 2.386710704520387e+25,\n",
       " 5.2149985324567795e+23,\n",
       " 1.0648939508119554e+22,\n",
       " 2.0860962096269292e+20,\n",
       " 3.97250419649772e+18,\n",
       " 7.410132136626136e+16,\n",
       " 1360646201145397.2]"
      ]
     },
     "execution_count": 193,
     "metadata": {},
     "output_type": "execute_result"
    }
   ],
   "source": [
    "J_inner1_3rd = []\n",
    "for i in range(len(psi_Rs)):\n",
    "    J_inner1 = 0\n",
    "    for j in range(len(psi_Rs)):\n",
    "        r_func = lambda l,psi:np.sqrt(max(1e-2,r0**2 - 2 * r0 * l * np.cos(psi) + l**2))\n",
    "        integrand_inner3 = lambda l: (rho_sat[i]* (r_func(l,psi_Rs[i]) / R_sat[i])**(-0.5))**2 * np.sin(psi_Rs[i]) * 2 * np.pi * 3.08e21\n",
    "        integral3 = quad(integrand_inner3, l_Rsat_new_4[i][j], l_Rs2[i])[0]\n",
    "        J_inner1 += integral3\n",
    "    J_inner1_3rd.append(J_inner1)\n",
    "\n",
    "J_inner1_3rd"
   ]
  },
  {
   "cell_type": "code",
   "execution_count": 194,
   "metadata": {},
   "outputs": [
    {
     "data": {
      "text/plain": [
       "[7.73746006749702e+28,\n",
       " 5.470843651470248e+28,\n",
       " 1.9339070272014033e+27,\n",
       " 4.80706453123764e+25,\n",
       " 1.048490843128113e+24,\n",
       " 2.362812386112751e+22,\n",
       " 1.2232391416922065e+21,\n",
       " 2.8559808702538708e+20,\n",
       " 9.567869885713012e+19,\n",
       " 1.1982974160412326e+19]"
      ]
     },
     "execution_count": 194,
     "metadata": {},
     "output_type": "execute_result"
    }
   ],
   "source": [
    "J_inner_1st_region = []\n",
    "for i in range(len(J_inner1_2nd)):\n",
    "    J_1st = J_inner1_1st[i] + J_inner1_2nd[i] + J_inner1_3rd[i]\n",
    "    J_inner_1st_region.append(J_1st)\n",
    "J_inner_1st_region"
   ]
  },
  {
   "cell_type": "markdown",
   "metadata": {},
   "source": [
    "# Code of the region from Rsat to Rsp"
   ]
  },
  {
   "cell_type": "code",
   "execution_count": 77,
   "metadata": {},
   "outputs": [],
   "source": [
    "psi_Rsat = [np.linspace(0, np.arctan(R_sat[i]/r0), len(sigma_v)) for i in range(len(R_sat))]\n",
    "psi_Rsat_to_Rsp = []\n",
    "for i in range(len(psi_Rs_to_Rsat)):\n",
    "    p = np.linspace(np.max(psi_Rs_to_Rsat[i]),np.arctan(Rsp/r0),len(sigma_v))\n",
    "    psi_Rsat_to_Rsp.append(p)\n"
   ]
  },
  {
   "cell_type": "code",
   "execution_count": 78,
   "metadata": {},
   "outputs": [],
   "source": [
    "l_Rsp1 = [r0 * np.cos(p) + np.sqrt(Rsp**2 - r0**2 * np.sin(p)**2) for p in psi_Rs]\n",
    "l_Rsp2 = []\n",
    "for i in range(len(psi_Rs_to_Rsat)):\n",
    "    l_Rsp_2 = []\n",
    "    for j in range(len(psi_Rs_to_Rsat[i])):\n",
    "        l_Rsp_new_2 = r0 * np.cos(psi_Rs_to_Rsat[i][j]) + np.sqrt(Rsp**2 - r0**2 * np.sin(psi_Rs_to_Rsat[i][j])**2)\n",
    "        l_Rsp_2.append(l_Rsp_new_2)\n",
    "    l_Rsp2.append(l_Rsp_2)\n",
    "\n",
    "l_Rsp3 = []\n",
    "for i in range(len(psi_Rsat_to_Rsp)):\n",
    "    l_Rsp_3 = []\n",
    "    for j in range(len(psi_Rsat_to_Rsp[i])):\n",
    "        l_Rsp_new_3 = r0 * np.cos(psi_Rsat_to_Rsp[i][j]) + np.sqrt(Rsp**2 - r0**2 * np.sin(psi_Rsat_to_Rsp[i][j])**2)\n",
    "        l_Rsp_3.append(l_Rsp_new_3)\n",
    "    l_Rsp3.append(l_Rsp_3)\n",
    "\n",
    "l_Rsp4 = []\n",
    "for i in range(len(psi_Rsat_to_Rsp)):\n",
    "    l_Rsp_4 = []\n",
    "    for j in range(len(psi_Rsat_to_Rsp[i])):\n",
    "        l_Rsp_new_4 = r0 * np.cos(psi_Rsat_to_Rsp[i][j]) - np.sqrt(Rsp**2 - r0**2 * np.sin(psi_Rsat_to_Rsp[i][j])**2)\n",
    "        l_Rsp_4.append(l_Rsp_new_4)\n",
    "    l_Rsp4.append(l_Rsp_4)\n",
    "\n",
    "l_Rsp5 = []\n",
    "for i in range(len(psi_Rs_to_Rsat)):\n",
    "    l_Rsp_5 = []\n",
    "    for j in range(len(psi_Rs_to_Rsat[i])):\n",
    "        l_Rsp_new_5 = r0 * np.cos(psi_Rs_to_Rsat[i][j]) - np.sqrt(Rsp**2 - r0**2 * np.sin(psi_Rs_to_Rsat[i][j])**2)\n",
    "        l_Rsp_5.append(l_Rsp_new_5)\n",
    "    l_Rsp5.append(l_Rsp_5)\n",
    "\n",
    "l_Rsp6 = [r0 * np.cos(p) - np.sqrt(Rsp**2 - r0**2 * np.sin(p)**2) for p in psi_Rs]"
   ]
  },
  {
   "cell_type": "code",
   "execution_count": 311,
   "metadata": {},
   "outputs": [
    {
     "name": "stderr",
     "output_type": "stream",
     "text": [
      "C:\\Users\\RITABIK BANERJEE\\AppData\\Local\\Temp\\ipykernel_12280\\2622419939.py:7: IntegrationWarning: The occurrence of roundoff error is detected, which prevents \n",
      "  the requested tolerance from being achieved.  The error may be \n",
      "  underestimated.\n",
      "  integral1 = quad(integrand_inner1, l_Rsat_new_1[i][j], l_Rsp1[i])[0]\n"
     ]
    },
    {
     "data": {
      "text/plain": [
       "[0.0,\n",
       " 3.4652050505757736e+16,\n",
       " 6.930307284623914e+16,\n",
       " 1.0394752832964795e+17,\n",
       " 1.3855335684852067e+17,\n",
       " 1.729429175500096e+17,\n",
       " 2.061608326863089e+17,\n",
       " 2.3317891612562403e+17,\n",
       " 2.279647021982733e+17,\n",
       " 5.746664154239927e+16]"
      ]
     },
     "execution_count": 311,
     "metadata": {},
     "output_type": "execute_result"
    }
   ],
   "source": [
    "J_inner2_1st = []\n",
    "for i in range(len(psi_Rs)):\n",
    "    J_inner2 = 0\n",
    "    for j in range(len(psi_Rs)):\n",
    "        r_func = lambda l,psi:np.sqrt(max(1e-7,r0**2 - 2 * r0 * l * np.cos(psi) + l**2))\n",
    "        integrand_inner1 = lambda l: (nfw_halo(Rsp, rs, rhos)*(r_func(l,psi_Rs[i])/Rsp)**(-gamma_sp))**2 * np.sin(psi_Rs[i]) * 2 * np.pi * 3.08e21\n",
    "        integral1 = quad(integrand_inner1, l_Rsat_new_1[i][j], l_Rsp1[i])[0]\n",
    "        J_inner2 += integral1\n",
    "    J_inner2_1st.append(J_inner2)\n",
    "\n",
    "J_inner2_1st"
   ]
  },
  {
   "cell_type": "code",
   "execution_count": 313,
   "metadata": {},
   "outputs": [
    {
     "data": {
      "text/plain": [
       "[15668300953399.682,\n",
       " 60642656264070.78,\n",
       " 267132639153101.1,\n",
       " 1215151312473487.2,\n",
       " 5566868596619790.0,\n",
       " 2.552700586076421e+16,\n",
       " 1.1674659422858722e+17,\n",
       " 5.264662005453133e+17,\n",
       " 2.200033055401109e+18,\n",
       " 3.6417165661540756e+18]"
      ]
     },
     "execution_count": 313,
     "metadata": {},
     "output_type": "execute_result"
    }
   ],
   "source": [
    "J_inner2_2nd = []\n",
    "for i in range(len(psi_Rs_to_Rsat)):\n",
    "    J_inner2 = 0\n",
    "    for j in range(len(psi_Rs_to_Rsat[i])):\n",
    "        r_func = lambda l,psi:np.sqrt(max(1e-5,r0**2 - 2 * r0 * l * np.cos(psi) + l**2))\n",
    "        integrand_inner2 = lambda l: (nfw_halo(Rsp, rs, rhos)*(r_func(l,psi_Rs_to_Rsat[i][j])/Rsp)**(-gamma_sp))**2 * np.sin(psi_Rs_to_Rsat[i][j]) * 2 * np.pi * 3.08e21\n",
    "        integral2 = quad(integrand_inner2, l_Rsat_new_2[i][j], l_Rsp2[i][j])[0]\n",
    "        J_inner2 += integral2\n",
    "    J_inner2_2nd.append(J_inner2)\n",
    "\n",
    "J_inner2_2nd"
   ]
  },
  {
   "cell_type": "code",
   "execution_count": 314,
   "metadata": {},
   "outputs": [
    {
     "data": {
      "text/plain": [
       "[7.276896296947605e+16,\n",
       " 7.276924869942059e+16,\n",
       " 7.277056057110237e+16,\n",
       " 7.277658360214918e+16,\n",
       " 7.280423300788546e+16,\n",
       " 7.293108931316886e+16,\n",
       " 7.351158604524682e+16,\n",
       " 7.613404345623043e+16,\n",
       " 8.708534972084949e+16,\n",
       " 8.543036018617781e+16]"
      ]
     },
     "execution_count": 314,
     "metadata": {},
     "output_type": "execute_result"
    }
   ],
   "source": [
    "J_inner2_3rd = []\n",
    "for i in range(len(psi_Rsat_to_Rsp)):\n",
    "    J_inner2 = 0\n",
    "    for j in range(len(psi_Rsat_to_Rsp[i])):\n",
    "        r_func = lambda l,psi:np.sqrt(max(1e-4,r0**2 - 2 * r0 * l * np.cos(psi) + l**2))\n",
    "        integrand_inner3 = lambda l: (nfw_halo(Rsp, rs, rhos)*(r_func(l,psi_Rsat_to_Rsp[i][j])/Rsp)**(-gamma_sp))**2 * np.sin(psi_Rsat_to_Rsp[i][j]) * 2 * np.pi * 3.08e21\n",
    "        integral3 = quad(integrand_inner3,l_Rsp4[i][j] , l_Rsp3[i][j])[0]\n",
    "        J_inner2 += integral3\n",
    "    J_inner2_3rd.append(J_inner2)\n",
    "\n",
    "J_inner2_3rd"
   ]
  },
  {
   "cell_type": "code",
   "execution_count": 319,
   "metadata": {},
   "outputs": [
    {
     "data": {
      "text/plain": [
       "[69987729527.66927,\n",
       " 270880795376.11224,\n",
       " 1193237668376.7415,\n",
       " 5427881532626.144,\n",
       " 24866288617705.17,\n",
       " 114024946747448.39,\n",
       " 521487880814162.1,\n",
       " 2351638136056497.5,\n",
       " 9827186680374256.0,\n",
       " 1.626695037365372e+16]"
      ]
     },
     "execution_count": 319,
     "metadata": {},
     "output_type": "execute_result"
    }
   ],
   "source": [
    "J_inner2_4th = []\n",
    "for i in range(len(psi_Rs_to_Rsat)):\n",
    "    J_inner2 = 0\n",
    "    for j in range(len(psi_Rs_to_Rsat[i])):\n",
    "        r_func = lambda l,psi:np.sqrt(max(1e-4,r0**2 - 2 * r0 * l * np.cos(psi) + l**2))\n",
    "        integrand_inner4 = lambda l: (nfw_halo(Rsp, rs, rhos)*(r_func(l,psi_Rs_to_Rsat[i][j])/Rsp)**(-gamma_sp))**2 * np.sin(psi_Rs_to_Rsat[i][j]) * 2 * np.pi * 3.08e21\n",
    "        integral4 = quad(integrand_inner4,l_Rsp5[i][j],l_Rsat_new_3[i][j])[0]\n",
    "        J_inner2 += integral4\n",
    "    J_inner2_4th.append(J_inner2)\n",
    "\n",
    "J_inner2_4th"
   ]
  },
  {
   "cell_type": "code",
   "execution_count": 288,
   "metadata": {},
   "outputs": [
    {
     "data": {
      "text/plain": [
       "[0.0,\n",
       " 698938449160.4446,\n",
       " 1397856381654.815,\n",
       " 2096643289740.0413,\n",
       " 2794659489831.6265,\n",
       " 3488360581710.2354,\n",
       " 4158684271131.2017,\n",
       " 4705305045963.896,\n",
       " 4608806924904.771,\n",
       " 1214462534654.6555]"
      ]
     },
     "execution_count": 288,
     "metadata": {},
     "output_type": "execute_result"
    }
   ],
   "source": [
    "J_inner2_5th = []\n",
    "for i in range(len(psi_Rs)):\n",
    "    J_inner2 = 0\n",
    "    for j in range(len(psi_Rs)):\n",
    "        r_func = lambda l,psi:np.sqrt(max(1e-5,r0**2 - 2 * r0 * l * np.cos(psi) + l**2))\n",
    "        integrand_inner5 = lambda l: (nfw_halo(Rsp, rs, rhos)*(r_func(l,psi_Rs[i])/Rsp)**(-gamma_sp))**2 * np.sin(psi_Rs[i]) * 2 * np.pi * 3.08e21\n",
    "        integral5 = quad(integrand_inner5,l_Rsp6[i],l_Rsat_new_4[i][j])[0]\n",
    "        J_inner2 += integral5\n",
    "    J_inner2_5th.append(J_inner2)\n",
    "\n",
    "J_inner2_5th"
   ]
  },
  {
   "cell_type": "code",
   "execution_count": 320,
   "metadata": {},
   "outputs": [
    {
     "data": {
      "text/plain": [
       "[7.278470125815896e+16,\n",
       " 1.0748291168068694e+17,\n",
       " 1.4234335715054464e+17,\n",
       " 1.77946787769093e+17,\n",
       " 2.1695211940113344e+17,\n",
       " 2.7151852603127184e+17,\n",
       " 3.969446595252282e+17,\n",
       " 8.381355035682702e+17,\n",
       " 2.524914902807531e+18,\n",
       " 3.8008817327188413e+18]"
      ]
     },
     "execution_count": 320,
     "metadata": {},
     "output_type": "execute_result"
    }
   ],
   "source": [
    "J_inner_2nd_region = []\n",
    "for i in range(len(J_inner1_2nd)):\n",
    "    J_2nd = J_inner2_1st[i] + J_inner2_2nd[i] + J_inner2_3rd[i] + J_inner2_4th[i] + J_inner2_5th[i]\n",
    "    J_inner_2nd_region.append(J_2nd)\n",
    "J_inner_2nd_region"
   ]
  },
  {
   "cell_type": "markdown",
   "metadata": {},
   "source": [
    "# Code to outer Regions"
   ]
  },
  {
   "cell_type": "code",
   "execution_count": 226,
   "metadata": {},
   "outputs": [],
   "source": [
    "psi_Rsp_to_R = []\n",
    "for i in range(len(psi_Rsat_to_Rsp)):\n",
    "    psi_R = np.linspace(np.max(psi_Rsat_to_Rsp[i]),np.pi/2,len(sigma_v))\n",
    "    psi_Rsp_to_R.append(psi_R)\n",
    "\n",
    "psi_R_to_pi = np.linspace(np.pi/2,np.pi,len(sigma_v))\n"
   ]
  },
  {
   "cell_type": "code",
   "execution_count": 228,
   "metadata": {},
   "outputs": [],
   "source": [
    "l_R1 = [r0 * np.cos(p) + np.sqrt(R**2 - r0**2 * np.sin(p)**2) for p in psi_Rs]\n",
    "l_R2 = []\n",
    "for i in range(len(psi_Rs_to_Rsat)):\n",
    "    l_R_2 = []\n",
    "    for j in range(len(psi_Rs_to_Rsat[i])):\n",
    "        l_R_new_2 = r0 * np.cos(psi_Rs_to_Rsat[i][j]) + np.sqrt(R**2 - r0**2 * np.sin(psi_Rs_to_Rsat[i][j])**2)\n",
    "        l_R_2.append(l_R_new_2)\n",
    "    l_R2.append(l_R_2)\n",
    "\n",
    "l_R3 = []\n",
    "for i in range(len(psi_Rsat_to_Rsp)):\n",
    "    l_R_3 = []\n",
    "    for j in range(len(psi_Rsat_to_Rsp[i])):\n",
    "        l_R_new_3 = r0 * np.cos(psi_Rsat_to_Rsp[i][j]) + np.sqrt(R**2 - r0**2 * np.sin(psi_Rsat_to_Rsp[i][j])**2)\n",
    "        l_R_3.append(l_R_new_3)\n",
    "    l_R3.append(l_R_3)\n",
    "\n",
    "l_R4 = []\n",
    "for i in range(len(psi_Rsp_to_R)):\n",
    "    l_R_4 = []\n",
    "    for j in range(len(psi_Rsp_to_R[i])):\n",
    "        l_R_new_4 = r0 * np.cos(psi_Rsp_to_R[i][j]) + np.sqrt(R**2 - r0**2 * np.sin(psi_Rsp_to_R[i][j])**2)\n",
    "        l_R_4.append(l_R_new_4)\n",
    "    l_R4.append(l_R_4)\n",
    "\n",
    "l_R5 = [r0 * np.cos(p) - np.sqrt(R**2 - r0**2 * np.sin(p)**2) for p in psi_R_to_pi]\n",
    "\n"
   ]
  },
  {
   "cell_type": "code",
   "execution_count": 302,
   "metadata": {},
   "outputs": [
    {
     "data": {
      "text/plain": [
       "52903851068857.69"
      ]
     },
     "execution_count": 302,
     "metadata": {},
     "output_type": "execute_result"
    }
   ],
   "source": [
    "J_outer1 = 0\n",
    "for i in range(len(psi_Rs)):\n",
    "    r_func = lambda l,psi:np.sqrt(max(1,r0**2 - 2 * r0 * l * np.cos(psi) + l**2))\n",
    "    integrand_outer1 = lambda l: nfw_halo(r_func(l,psi_Rs[i]), rs, rhos)**2 * np.sin(psi_Rs[i]) * 2* np.pi * 3.08e21\n",
    "    integral1 = quad(integrand_outer1,l_Rsp1[i],l_R1[i])[0]\n",
    "    J_outer1 += integral1\n",
    "\n",
    "J_outer1"
   ]
  },
  {
   "cell_type": "code",
   "execution_count": 301,
   "metadata": {},
   "outputs": [
    {
     "data": {
      "text/plain": [
       "[263545860282025.62,\n",
       " 1020030884348505.4,\n",
       " 4493303475028746.5,\n",
       " 2.044024506063803e+16,\n",
       " 9.365792069592363e+16,\n",
       " 4.298244512983574e+17,\n",
       " 1.973276026542118e+18,\n",
       " 9.059772656881627e+18,\n",
       " 4.159628640263249e+19,\n",
       " 1.909898206172142e+20]"
      ]
     },
     "execution_count": 301,
     "metadata": {},
     "output_type": "execute_result"
    }
   ],
   "source": [
    "J_outer2 = []\n",
    "for i in range(len(psi_Rs_to_Rsat)):\n",
    "    J_outer = 0\n",
    "    for j in range(len(psi_Rs_to_Rsat[i])):\n",
    "        r_func = lambda l,psi:np.sqrt(max(1,r0**2 - 2 * r0 * l * np.cos(psi) + l**2))\n",
    "        integrand_outer2 = lambda l: nfw_halo(r_func(l,psi_Rs_to_Rsat[i][j]), rs, rhos)**2 * np.sin(psi_Rs_to_Rsat[i][j]) * 2* np.pi * 3.08e21\n",
    "        integral2 = quad(integrand_outer2,l_Rsp2[i][j],l_R2[i][j])[0]\n",
    "        J_outer += integral2\n",
    "    J_outer2.append(J_outer)\n",
    "\n",
    "J_outer2"
   ]
  },
  {
   "cell_type": "code",
   "execution_count": 303,
   "metadata": {},
   "outputs": [
    {
     "data": {
      "text/plain": [
       "[2.3669513579258924e+20,\n",
       " 2.3669589232102618e+20,\n",
       " 2.3669936579294265e+20,\n",
       " 2.367153136497756e+20,\n",
       " 2.367885355292288e+20,\n",
       " 2.3712472139501017e+20,\n",
       " 2.3866826246378298e+20,\n",
       " 2.457551852037634e+20,\n",
       " 2.7829399619968487e+20,\n",
       " 4.277098521917251e+20]"
      ]
     },
     "execution_count": 303,
     "metadata": {},
     "output_type": "execute_result"
    }
   ],
   "source": [
    "J_outer3 = []\n",
    "for i in range(len(psi_Rsat_to_Rsp)):\n",
    "    J_outer = 0\n",
    "    for j in range(len(psi_Rsat_to_Rsp[i])):\n",
    "        r_func = lambda l,psi:np.sqrt(max(1,r0**2 - 2 * r0 * l * np.cos(psi) + l**2))\n",
    "        integrand_outer3 = lambda l: nfw_halo(r_func(l,psi_Rsat_to_Rsp[i][j]), rs, rhos)**2 * np.sin(psi_Rsat_to_Rsp[i][j]) * 2* np.pi * 3.08e21\n",
    "        integral3 = quad(integrand_outer3,l_Rsp3[i][j],l_R3[i][j])[0]\n",
    "        J_outer += integral3\n",
    "    J_outer3.append(J_outer)\n",
    "\n",
    "J_outer3"
   ]
  },
  {
   "cell_type": "code",
   "execution_count": 270,
   "metadata": {},
   "outputs": [
    {
     "data": {
      "text/plain": [
       "[5.635284296086945e+22,\n",
       " 5.635284296086945e+22,\n",
       " 5.635284296086945e+22,\n",
       " 5.635284296086945e+22,\n",
       " 5.635284296086945e+22,\n",
       " 5.635284296086945e+22,\n",
       " 5.635284296086945e+22,\n",
       " 5.635284296086945e+22,\n",
       " 5.635284296086945e+22,\n",
       " 5.635284296086945e+22]"
      ]
     },
     "execution_count": 270,
     "metadata": {},
     "output_type": "execute_result"
    }
   ],
   "source": [
    "J_outer4 = []\n",
    "for i in range(len(psi_Rsp_to_R)):\n",
    "    J_outer = 0\n",
    "    for j in range(len(psi_Rsp_to_R[i])):\n",
    "        r_func = lambda l,psi:np.sqrt(max(200,r0**2 - 2 * r0 * l * np.cos(psi) + l**2))\n",
    "        integrand_outer4 = lambda l: nfw_halo(r_func(l,psi_Rsp_to_R[i][j]), rs, rhos)**2 * np.sin(psi_Rsp_to_R[i][j]) * 2* np.pi * 3.08e21\n",
    "        integral4 = quad(integrand_outer4,0,l_R4[i][j])[0]\n",
    "        J_outer += integral4\n",
    "    J_outer4.append(J_outer)\n",
    "\n",
    "J_outer4"
   ]
  },
  {
   "cell_type": "code",
   "execution_count": 300,
   "metadata": {},
   "outputs": [
    {
     "data": {
      "text/plain": [
       "-5.635119891724446e+22"
      ]
     },
     "execution_count": 300,
     "metadata": {},
     "output_type": "execute_result"
    }
   ],
   "source": [
    "J_outer5 = 0\n",
    "for i in range(len(psi_R_to_pi)):\n",
    "    r_func = lambda l,psi:np.sqrt(max(200,r0**2 - 2 * r0 * l * np.cos(psi) + l**2))\n",
    "    integrand_outer5 = lambda l: nfw_halo(r_func(l,psi_R_to_pi[i]), rs, rhos)**2 * np.sin(psi_R_to_pi[i]) * 2* np.pi * 3.08e21\n",
    "    integral5 = quad(integrand_outer5,0,l_R5[i])[0]\n",
    "    J_outer5 += integral5\n",
    "\n",
    "J_outer5"
   ]
  },
  {
   "cell_type": "code",
   "execution_count": 237,
   "metadata": {},
   "outputs": [
    {
     "data": {
      "text/plain": [
       "[9.300945146595734e+20,\n",
       " 9.30097487290233e+20,\n",
       " 9.301111356193874e+20,\n",
       " 9.301737996070625e+20,\n",
       " 9.304615106892017e+20,\n",
       " 9.317824876833592e+20,\n",
       " 9.37847537815375e+20,\n",
       " 9.656943701189761e+20,\n",
       " 1.0935530681294278e+21,\n",
       " 1.6808184563362156e+21]"
      ]
     },
     "execution_count": 237,
     "metadata": {},
     "output_type": "execute_result"
    }
   ],
   "source": [
    "J_outer6 = []\n",
    "for i in range(len(psi_Rsat_to_Rsp)):\n",
    "    J_outer = 0\n",
    "    for j in range(len(psi_Rsat_to_Rsp[i])):\n",
    "        r_func = lambda l,psi:np.sqrt(max(0.1,r0**2 - 2 * r0 * l * np.cos(psi) + l**2))\n",
    "        integrand_outer6 = lambda l: nfw_halo(r_func(l,psi_Rsat_to_Rsp[i][j]), rs, rhos)**2 * np.sin(psi_Rsat_to_Rsp[i][j]) * 2* np.pi * 3.08e21\n",
    "        integral6 = quad(integrand_outer6,0,l_Rsp4[i][j])[0]\n",
    "        J_outer += integral6\n",
    "    J_outer6.append(J_outer)\n",
    "\n",
    "J_outer6"
   ]
  },
  {
   "cell_type": "code",
   "execution_count": 236,
   "metadata": {},
   "outputs": [
    {
     "data": {
      "text/plain": [
       "[1035437120442726.6,\n",
       " 4007567565365014.0,\n",
       " 1.76536000469917e+16,\n",
       " 8.030704206128997e+16,\n",
       " 3.679696869830553e+17,\n",
       " 1.6887238973454597e+18,\n",
       " 7.752742766360158e+18,\n",
       " 3.559466412327559e+19,\n",
       " 1.634268952645571e+20,\n",
       " 7.504350686030167e+20]"
      ]
     },
     "execution_count": 236,
     "metadata": {},
     "output_type": "execute_result"
    }
   ],
   "source": [
    "J_outer7 = []\n",
    "for i in range(len(psi_Rs_to_Rsat)):\n",
    "    J_outer = 0\n",
    "    for j in range(len(psi_Rs_to_Rsat[i])):\n",
    "        r_func = lambda l,psi:np.sqrt(max(1,r0**2 - 2 * r0 * l * np.cos(psi) + l**2))\n",
    "        integrand_outer7 = lambda l: nfw_halo(r_func(l,psi_Rs_to_Rsat[i][j]), rs, rhos)**2 * np.sin(psi_Rs_to_Rsat[i][j]) * 2* np.pi * 3.08e21\n",
    "        integral7 = quad(integrand_outer7,0,l_Rsp5[i][j])[0]\n",
    "        J_outer += integral7\n",
    "    J_outer7.append(J_outer)\n",
    "\n",
    "J_outer7"
   ]
  },
  {
   "cell_type": "code",
   "execution_count": 259,
   "metadata": {},
   "outputs": [
    {
     "data": {
      "text/plain": [
       "207852292395901.0"
      ]
     },
     "execution_count": 259,
     "metadata": {},
     "output_type": "execute_result"
    }
   ],
   "source": [
    "J_outer8 = 0\n",
    "for i in range(len(psi_Rs)):\n",
    "    r_func = lambda l,psi:np.sqrt(max(0.1,r0**2 - 2 * r0 * l * np.cos(psi) + l**2))\n",
    "    integrand_outer8 = lambda l: nfw_halo(r_func(l,psi_Rs[i]), rs, rhos)**2 * np.sin(psi_Rs[i]) * 2* np.pi * 3.08e21\n",
    "    integral8 = quad(integrand_outer8,0,l_Rsp6[i])[0]\n",
    "    J_outer8 += integral8\n",
    "\n",
    "J_outer8"
   ]
  },
  {
   "cell_type": "code",
   "execution_count": 304,
   "metadata": {},
   "outputs": [
    {
     "data": {
      "text/plain": [
       "[2.3833949586728996e+20,\n",
       " 2.3834100888074453e+20,\n",
       " 2.383479556252568e+20,\n",
       " 2.383798504236767e+20,\n",
       " 2.3852628997876325e+20,\n",
       " 2.3919864237514136e+20,\n",
       " 2.4228563501916042e+20,\n",
       " 2.5645905438947934e+20,\n",
       " 3.215343791311505e+20,\n",
       " 6.20343769337776e+20]"
      ]
     },
     "execution_count": 304,
     "metadata": {},
     "output_type": "execute_result"
    }
   ],
   "source": [
    "J_outer_region = []\n",
    "for i in range(len(J_outer2)):\n",
    "    J_outer = J_outer1 + J_outer2[i] + J_outer3[i] + J_outer4[i] + J_outer5 #+ J_outer6[i] + J_outer7[i] + J_outer8\n",
    "    J_outer_region.append(J_outer)\n",
    "\n",
    "J_outer_region"
   ]
  },
  {
   "cell_type": "markdown",
   "metadata": {},
   "source": [
    "# Total J_factor"
   ]
  },
  {
   "cell_type": "code",
   "execution_count": 321,
   "metadata": {},
   "outputs": [],
   "source": [
    "J = []\n",
    "for i in range(len(J_inner_1st_region)):\n",
    "    J_factor = J_inner_1st_region[i]+J_inner_2nd_region[i] + J_outer_region[i]\n",
    "    J.append(J_factor)"
   ]
  },
  {
   "cell_type": "code",
   "execution_count": 322,
   "metadata": {},
   "outputs": [
    {
     "data": {
      "text/plain": [
       "[7.7374600913382485e+28,\n",
       " 5.4708436753150975e+28,\n",
       " 1.9339072656917022e+27,\n",
       " 4.807088387017361e+25,\n",
       " 1.0487295863702111e+24,\n",
       " 2.3867594022028684e+22,\n",
       " 1.465921721370892e+21,\n",
       " 5.428952769184347e+20,\n",
       " 4.197379928910882e+20,\n",
       " 6.361276252309072e+20]"
      ]
     },
     "execution_count": 322,
     "metadata": {},
     "output_type": "execute_result"
    }
   ],
   "source": [
    "J"
   ]
  },
  {
   "cell_type": "code",
   "execution_count": 327,
   "metadata": {},
   "outputs": [
    {
     "data": {
      "image/png": "[encoded data removed]",
      "text/plain": [
       "<Figure size 432x288 with 1 Axes>"
      ]
     },
     "metadata": {
      "needs_background": "light"
     },
     "output_type": "display_data"
    }
   ],
   "source": [
    "plt.plot(sigma_v,J)\n",
    "plt.xscale('log')\n",
    "plt.yscale('log')\n",
    "plt.xlim(10**(-33),10**(-20))\n",
    "plt.grid()\n",
    "plt.show()"
   ]
  }
 ],
 "metadata": {
  "kernelspec": {
   "display_name": "Python 3",
   "language": "python",
   "name": "python3"
  },
  "language_info": {
   "codemirror_mode": {
    "name": "ipython",
    "version": 3
   },
   "file_extension": ".py",
   "mimetype": "text/x-python",
   "name": "python",
   "nbconvert_exporter": "python",
   "pygments_lexer": "ipython3",
   "version": "3.9.2"
  }
 },
 "nbformat": 4,
 "nbformat_minor": 2
}
