{
 "cells": [
  {
   "cell_type": "code",
   "execution_count": 2,
   "metadata": {},
   "outputs": [],
   "source": [
    "import numpy as np\n",
    "import matplotlib.pyplot as plt\n",
    "from scipy.integrate import dblquad\n",
    "from scipy.integrate import quad\n"
   ]
  },
  {
   "cell_type": "code",
   "execution_count": 1,
   "metadata": {},
   "outputs": [
    {
     "name": "stderr",
     "output_type": "stream",
     "text": [
      "c:\\python39\\lib\\site-packages\\numpy\\_distributor_init.py:30: UserWarning: loaded more than 1 DLL from .libs:\n",
      "c:\\python39\\lib\\site-packages\\numpy\\.libs\\libopenblas.EL2C6PLE4ZYW3ECEVIV3OXXGRN2NRFM2.gfortran-win_amd64.dll\n",
      "c:\\python39\\lib\\site-packages\\numpy\\.libs\\libopenblas64__v0.3.23-gcc_10_3_0.dll\n",
      "  warnings.warn(\"loaded more than 1 DLL from .libs:\"\n"
     ]
    }
   ],
   "source": [
    "import profiles"
   ]
  },
  {
   "cell_type": "code",
   "execution_count": 3,
   "metadata": {},
   "outputs": [],
   "source": [
    "# Function to calculate the NFW halo density profile\n",
    "def nfw_halo(r, rs,rhos):\n",
    "    x = r / rs\n",
    "    return rhos / (x * (1 + x)**2)\n"
   ]
  },
  {
   "cell_type": "code",
   "execution_count": 75,
   "metadata": {},
   "outputs": [],
   "source": [
    "\n",
    "\n",
    "# Function to calculate the Milky Way density profile based on Gondolo-Silk model\n",
    "def mw_density_GS(r,rs,rhos,Rs, Rsat, Rsp, gamma_sp, rho_sat):\n",
    "    \n",
    "    density = np.zeros_like(r)\n",
    "\n",
    "    # Condition 1: r < 2RS\n",
    "    mask_condition_1 = r < 2 * Rs\n",
    "    density[mask_condition_1] = 0\n",
    "\n",
    "    # Condition 2: 2RS ≤ r < Rsat\n",
    "    mask_condition_2 = (r >= 2 * Rs) & (r < Rsat)\n",
    "    density[mask_condition_2] = rho_sat * (r[mask_condition_2] / Rsat)**(-0.5)\n",
    "\n",
    "    # Condition 3: Rsat ≤ r < Rsp\n",
    "    mask_condition_3 = (r >= Rsat) & (r < Rsp)\n",
    "    x = r[mask_condition_3] / Rsp\n",
    "    density[mask_condition_3] = nfw_halo(Rsp,rs,rhos) * x**(-gamma_sp)\n",
    "\n",
    "    # Condition 4: r ≥ Rsp\n",
    "    mask_condition_4 = r >= Rsp\n",
    "    density[mask_condition_4] = nfw_halo(r[mask_condition_4],rs,rhos)\n",
    "\n",
    "    return density\n",
    "\n"
   ]
  },
  {
   "cell_type": "code",
   "execution_count": 140,
   "metadata": {},
   "outputs": [],
   "source": [
    "\n",
    "\n",
    "# Constants and parameters\n",
    "rs = 18.6  # Scale radius in kpc\n",
    "rho0 = 0.383  # Local DM density in GeV/cm^3\n",
    "r0 = 8.2  # Sun position in kpc\n",
    "m_chi = 1000# Dark matter mass in GeV\n",
    "t = 3.15 * 10**17  # in s\n",
    "rhos = (rho0 * ((r0 / rs) * (1 + r0 / rs)**(2)))\n",
    "R = 200\n",
    "# Parameters for the Milky Way density profile\n",
    "Rs = 3.8 * 10**(-11)  # Example value for Rs\n",
    "Rsp = 0.34 * 10**(-3)  # Example value for Rsp\n",
    "gamma_sp = 2.35  # Example value for gamma_sp\n",
    "\n"
   ]
  },
  {
   "cell_type": "code",
   "execution_count": 148,
   "metadata": {},
   "outputs": [
    {
     "name": "stderr",
     "output_type": "stream",
     "text": [
      "C:\\Users\\RITABIK BANERJEE\\AppData\\Local\\Temp\\ipykernel_31688\\3137348193.py:2: IntegrationWarning: The algorithm does not converge.  Roundoff error is detected\n",
      "  in the extrapolation table.  It is assumed that the requested tolerance\n",
      "  cannot be achieved, and that the returned result (if full_output = 1) is \n",
      "  the best which can be obtained.\n",
      "  J_halo,error = quad(integrand,0,r0+R)\n"
     ]
    }
   ],
   "source": [
    "\n",
    "integrand = lambda l: (nfw_halo(np.abs(r0-l),rs,rhos)**2)*3.086*10**21*0.1\n",
    "J_halo,error = quad(integrand,0,r0+R)"
   ]
  },
  {
   "cell_type": "code",
   "execution_count": 149,
   "metadata": {},
   "outputs": [
    {
     "data": {
      "text/plain": [
       "3.086741529207028e+27"
      ]
     },
     "execution_count": 149,
     "metadata": {},
     "output_type": "execute_result"
    }
   ],
   "source": [
    "J_halo"
   ]
  },
  {
   "cell_type": "code",
   "execution_count": 145,
   "metadata": {},
   "outputs": [
    {
     "name": "stderr",
     "output_type": "stream",
     "text": [
      "C:\\Users\\RITABIK BANERJEE\\AppData\\Local\\Temp\\ipykernel_31688\\1579548711.py:2: IntegrationWarning: The algorithm does not converge.  Roundoff error is detected\n",
      "  in the extrapolation table.  It is assumed that the requested tolerance\n",
      "  cannot be achieved, and that the returned result (if full_output = 1) is \n",
      "  the best which can be obtained.\n",
      "  J_GS,error = quad(integrand,0,R+r0)\n"
     ]
    }
   ],
   "source": [
    "integrand = lambda l: (mw_density_GS(np.abs(r0-l),rs,rhos,Rs,0,Rsp,gamma_sp,np.inf)**2)*l**2\n",
    "J_GS,error = quad(integrand,0,R+r0)"
   ]
  },
  {
   "cell_type": "code",
   "execution_count": 144,
   "metadata": {},
   "outputs": [
    {
     "data": {
      "text/plain": [
       "0.011928588652407257"
      ]
     },
     "execution_count": 144,
     "metadata": {},
     "output_type": "execute_result"
    }
   ],
   "source": [
    "J_GS"
   ]
  }
 ],
 "metadata": {
  "kernelspec": {
   "display_name": "Python 3",
   "language": "python",
   "name": "python3"
  },
  "language_info": {
   "codemirror_mode": {
    "name": "ipython",
    "version": 3
   },
   "file_extension": ".py",
   "mimetype": "text/x-python",
   "name": "python",
   "nbconvert_exporter": "python",
   "pygments_lexer": "ipython3",
   "version": "3.9.2"
  }
 },
 "nbformat": 4,
 "nbformat_minor": 2
}
